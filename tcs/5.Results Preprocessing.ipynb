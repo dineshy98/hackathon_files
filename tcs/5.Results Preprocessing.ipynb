{
 "cells": [
  {
   "cell_type": "code",
   "execution_count": 1,
   "metadata": {},
   "outputs": [],
   "source": [
    "import pandas as pd\n",
    "\n",
    "test_main = pd.read_csv('S:/Hackathons/TCS/test_main.csv')\n",
    "test_main1 = pd.read_csv('S:/Hackathons/TCS/test_main1.csv')\n",
    "\n",
    "\n",
    "preds = pd.read_csv('S:/Hackathons/TCS/preds1.csv')\n",
    "preds['proj_id'] = test_main1['proj_id']\n",
    "preds['cand_id'] = test_main1['cand_id'] "
   ]
  },
  {
   "cell_type": "code",
   "execution_count": 2,
   "metadata": {},
   "outputs": [
    {
     "data": {
      "text/html": [
       "<div>\n",
       "<style scoped>\n",
       "    .dataframe tbody tr th:only-of-type {\n",
       "        vertical-align: middle;\n",
       "    }\n",
       "\n",
       "    .dataframe tbody tr th {\n",
       "        vertical-align: top;\n",
       "    }\n",
       "\n",
       "    .dataframe thead th {\n",
       "        text-align: right;\n",
       "    }\n",
       "</style>\n",
       "<table border=\"1\" class=\"dataframe\">\n",
       "  <thead>\n",
       "    <tr style=\"text-align: right;\">\n",
       "      <th></th>\n",
       "      <th>REJECTED</th>\n",
       "      <th>SELECTED</th>\n",
       "      <th>proj_id</th>\n",
       "      <th>cand_id</th>\n",
       "    </tr>\n",
       "  </thead>\n",
       "  <tbody>\n",
       "    <tr>\n",
       "      <th>0</th>\n",
       "      <td>0.569634</td>\n",
       "      <td>0.430366</td>\n",
       "      <td>p10</td>\n",
       "      <td>c1</td>\n",
       "    </tr>\n",
       "    <tr>\n",
       "      <th>1</th>\n",
       "      <td>0.421798</td>\n",
       "      <td>0.578202</td>\n",
       "      <td>p10</td>\n",
       "      <td>c3</td>\n",
       "    </tr>\n",
       "    <tr>\n",
       "      <th>2</th>\n",
       "      <td>0.535567</td>\n",
       "      <td>0.464433</td>\n",
       "      <td>p10</td>\n",
       "      <td>c7</td>\n",
       "    </tr>\n",
       "    <tr>\n",
       "      <th>3</th>\n",
       "      <td>0.429013</td>\n",
       "      <td>0.570987</td>\n",
       "      <td>p10</td>\n",
       "      <td>c15</td>\n",
       "    </tr>\n",
       "    <tr>\n",
       "      <th>4</th>\n",
       "      <td>0.443810</td>\n",
       "      <td>0.556190</td>\n",
       "      <td>p10</td>\n",
       "      <td>c16</td>\n",
       "    </tr>\n",
       "    <tr>\n",
       "      <th>...</th>\n",
       "      <td>...</td>\n",
       "      <td>...</td>\n",
       "      <td>...</td>\n",
       "      <td>...</td>\n",
       "    </tr>\n",
       "    <tr>\n",
       "      <th>19975</th>\n",
       "      <td>0.440536</td>\n",
       "      <td>0.559464</td>\n",
       "      <td>p99</td>\n",
       "      <td>c803</td>\n",
       "    </tr>\n",
       "    <tr>\n",
       "      <th>19976</th>\n",
       "      <td>0.440536</td>\n",
       "      <td>0.559464</td>\n",
       "      <td>p99</td>\n",
       "      <td>c808</td>\n",
       "    </tr>\n",
       "    <tr>\n",
       "      <th>19977</th>\n",
       "      <td>0.440536</td>\n",
       "      <td>0.559464</td>\n",
       "      <td>p99</td>\n",
       "      <td>c811</td>\n",
       "    </tr>\n",
       "    <tr>\n",
       "      <th>19978</th>\n",
       "      <td>0.594929</td>\n",
       "      <td>0.405071</td>\n",
       "      <td>p99</td>\n",
       "      <td>c813</td>\n",
       "    </tr>\n",
       "    <tr>\n",
       "      <th>19979</th>\n",
       "      <td>0.518258</td>\n",
       "      <td>0.481742</td>\n",
       "      <td>p99</td>\n",
       "      <td>c816</td>\n",
       "    </tr>\n",
       "  </tbody>\n",
       "</table>\n",
       "<p>19980 rows × 4 columns</p>\n",
       "</div>"
      ],
      "text/plain": [
       "       REJECTED  SELECTED proj_id cand_id\n",
       "0      0.569634  0.430366     p10      c1\n",
       "1      0.421798  0.578202     p10      c3\n",
       "2      0.535567  0.464433     p10      c7\n",
       "3      0.429013  0.570987     p10     c15\n",
       "4      0.443810  0.556190     p10     c16\n",
       "...         ...       ...     ...     ...\n",
       "19975  0.440536  0.559464     p99    c803\n",
       "19976  0.440536  0.559464     p99    c808\n",
       "19977  0.440536  0.559464     p99    c811\n",
       "19978  0.594929  0.405071     p99    c813\n",
       "19979  0.518258  0.481742     p99    c816\n",
       "\n",
       "[19980 rows x 4 columns]"
      ]
     },
     "execution_count": 2,
     "metadata": {},
     "output_type": "execute_result"
    }
   ],
   "source": [
    "preds"
   ]
  },
  {
   "cell_type": "markdown",
   "metadata": {},
   "source": [
    "SELECTED Column consists of Probability of Selection"
   ]
  },
  {
   "cell_type": "code",
   "execution_count": 3,
   "metadata": {},
   "outputs": [
    {
     "data": {
      "text/plain": [
       "(19980, 1)"
      ]
     },
     "execution_count": 3,
     "metadata": {},
     "output_type": "execute_result"
    }
   ],
   "source": [
    "df_agg = preds.groupby(['proj_id','cand_id']).agg({'SELECTED':sum})\n",
    "df_agg.shape"
   ]
  },
  {
   "cell_type": "code",
   "execution_count": 4,
   "metadata": {},
   "outputs": [
    {
     "data": {
      "text/html": [
       "<div>\n",
       "<style scoped>\n",
       "    .dataframe tbody tr th:only-of-type {\n",
       "        vertical-align: middle;\n",
       "    }\n",
       "\n",
       "    .dataframe tbody tr th {\n",
       "        vertical-align: top;\n",
       "    }\n",
       "\n",
       "    .dataframe thead th {\n",
       "        text-align: right;\n",
       "    }\n",
       "</style>\n",
       "<table border=\"1\" class=\"dataframe\">\n",
       "  <thead>\n",
       "    <tr style=\"text-align: right;\">\n",
       "      <th></th>\n",
       "      <th></th>\n",
       "      <th>SELECTED</th>\n",
       "    </tr>\n",
       "    <tr>\n",
       "      <th>proj_id</th>\n",
       "      <th>cand_id</th>\n",
       "      <th></th>\n",
       "    </tr>\n",
       "  </thead>\n",
       "  <tbody>\n",
       "    <tr>\n",
       "      <th rowspan=\"5\" valign=\"top\">p10</th>\n",
       "      <th>c1</th>\n",
       "      <td>0.430366</td>\n",
       "    </tr>\n",
       "    <tr>\n",
       "      <th>c100</th>\n",
       "      <td>0.393147</td>\n",
       "    </tr>\n",
       "    <tr>\n",
       "      <th>c101</th>\n",
       "      <td>0.473747</td>\n",
       "    </tr>\n",
       "    <tr>\n",
       "      <th>c102</th>\n",
       "      <td>0.597570</td>\n",
       "    </tr>\n",
       "    <tr>\n",
       "      <th>c105</th>\n",
       "      <td>0.475068</td>\n",
       "    </tr>\n",
       "  </tbody>\n",
       "</table>\n",
       "</div>"
      ],
      "text/plain": [
       "                 SELECTED\n",
       "proj_id cand_id          \n",
       "p10     c1       0.430366\n",
       "        c100     0.393147\n",
       "        c101     0.473747\n",
       "        c102     0.597570\n",
       "        c105     0.475068"
      ]
     },
     "execution_count": 4,
     "metadata": {},
     "output_type": "execute_result"
    }
   ],
   "source": [
    "df_agg.head(5)"
   ]
  },
  {
   "cell_type": "code",
   "execution_count": 5,
   "metadata": {},
   "outputs": [
    {
     "data": {
      "text/html": [
       "<div>\n",
       "<style scoped>\n",
       "    .dataframe tbody tr th:only-of-type {\n",
       "        vertical-align: middle;\n",
       "    }\n",
       "\n",
       "    .dataframe tbody tr th {\n",
       "        vertical-align: top;\n",
       "    }\n",
       "\n",
       "    .dataframe thead th {\n",
       "        text-align: right;\n",
       "    }\n",
       "</style>\n",
       "<table border=\"1\" class=\"dataframe\">\n",
       "  <thead>\n",
       "    <tr style=\"text-align: right;\">\n",
       "      <th></th>\n",
       "      <th></th>\n",
       "      <th>SELECTED</th>\n",
       "    </tr>\n",
       "    <tr>\n",
       "      <th>proj_id</th>\n",
       "      <th>cand_id</th>\n",
       "      <th></th>\n",
       "    </tr>\n",
       "  </thead>\n",
       "  <tbody>\n",
       "    <tr>\n",
       "      <th rowspan=\"5\" valign=\"top\">p99</th>\n",
       "      <th>c811</th>\n",
       "      <td>0.559464</td>\n",
       "    </tr>\n",
       "    <tr>\n",
       "      <th>c813</th>\n",
       "      <td>0.405071</td>\n",
       "    </tr>\n",
       "    <tr>\n",
       "      <th>c816</th>\n",
       "      <td>0.481742</td>\n",
       "    </tr>\n",
       "    <tr>\n",
       "      <th>c84</th>\n",
       "      <td>0.559464</td>\n",
       "    </tr>\n",
       "    <tr>\n",
       "      <th>c93</th>\n",
       "      <td>0.559464</td>\n",
       "    </tr>\n",
       "  </tbody>\n",
       "</table>\n",
       "</div>"
      ],
      "text/plain": [
       "                 SELECTED\n",
       "proj_id cand_id          \n",
       "p99     c811     0.559464\n",
       "        c813     0.405071\n",
       "        c816     0.481742\n",
       "        c84      0.559464\n",
       "        c93      0.559464"
      ]
     },
     "execution_count": 5,
     "metadata": {},
     "output_type": "execute_result"
    }
   ],
   "source": [
    "df_agg.tail(5)"
   ]
  },
  {
   "cell_type": "code",
   "execution_count": 6,
   "metadata": {},
   "outputs": [
    {
     "data": {
      "text/plain": [
       "proj_id  cand_id\n",
       "p10      c1         0.430366\n",
       "         c100       0.393147\n",
       "         c101       0.473747\n",
       "         c102       0.597570\n",
       "         c105       0.475068\n",
       "                      ...   \n",
       "p99      c1         0.559464\n",
       "         c100       0.367049\n",
       "         c101       0.584440\n",
       "         c102       0.559464\n",
       "         c105       0.591392\n",
       "Name: SELECTED, Length: 675, dtype: float64"
      ]
     },
     "execution_count": 6,
     "metadata": {},
     "output_type": "execute_result"
    }
   ],
   "source": [
    "grps = df_agg['SELECTED'].groupby('proj_id', group_keys=False)\n",
    "grps.head()"
   ]
  },
  {
   "cell_type": "code",
   "execution_count": 7,
   "metadata": {},
   "outputs": [
    {
     "data": {
      "text/plain": [
       "proj_id  cand_id\n",
       "p10      c57        0.597570\n",
       "         c786       0.597570\n",
       "         c102       0.597570\n",
       "         c348       0.597570\n",
       "         c299       0.594283\n",
       "                      ...   \n",
       "p99      c650       0.628569\n",
       "         c108       0.602672\n",
       "         c264       0.602672\n",
       "         c124       0.602672\n",
       "         c655       0.597570\n",
       "Name: SELECTED, Length: 675, dtype: float64"
      ]
     },
     "execution_count": 7,
     "metadata": {},
     "output_type": "execute_result"
    }
   ],
   "source": [
    "top5s = grps.apply(lambda x: x.sort_values(ascending=False).head(5))\n",
    "top5s"
   ]
  },
  {
   "cell_type": "code",
   "execution_count": 8,
   "metadata": {},
   "outputs": [],
   "source": [
    "#top5s.to_csv('S:/Hackathons/TCS/preds.csv',index = False)\n",
    "top5s1 =top5s.copy()"
   ]
  },
  {
   "cell_type": "code",
   "execution_count": 9,
   "metadata": {},
   "outputs": [],
   "source": [
    "top5s1 = pd.DataFrame(top5s1)\n",
    "top5s1.reset_index(inplace = True)\n",
    "top5s1.drop(columns = ['SELECTED'],inplace = True)"
   ]
  },
  {
   "cell_type": "code",
   "execution_count": 10,
   "metadata": {},
   "outputs": [],
   "source": [
    "submission = pd.DataFrame(top5s1.groupby(['proj_id'])['cand_id'].apply(lambda x: ','.join(x))).reset_index()"
   ]
  },
  {
   "cell_type": "code",
   "execution_count": 11,
   "metadata": {},
   "outputs": [
    {
     "data": {
      "text/html": [
       "<div>\n",
       "<style scoped>\n",
       "    .dataframe tbody tr th:only-of-type {\n",
       "        vertical-align: middle;\n",
       "    }\n",
       "\n",
       "    .dataframe tbody tr th {\n",
       "        vertical-align: top;\n",
       "    }\n",
       "\n",
       "    .dataframe thead th {\n",
       "        text-align: right;\n",
       "    }\n",
       "</style>\n",
       "<table border=\"1\" class=\"dataframe\">\n",
       "  <thead>\n",
       "    <tr style=\"text-align: right;\">\n",
       "      <th></th>\n",
       "      <th>proj_id</th>\n",
       "      <th>cand_id</th>\n",
       "    </tr>\n",
       "  </thead>\n",
       "  <tbody>\n",
       "    <tr>\n",
       "      <th>0</th>\n",
       "      <td>p10</td>\n",
       "      <td>c57,c786,c102,c348,c299</td>\n",
       "    </tr>\n",
       "    <tr>\n",
       "      <th>1</th>\n",
       "      <td>p100</td>\n",
       "      <td>c108,c264,c655,c227,c254</td>\n",
       "    </tr>\n",
       "    <tr>\n",
       "      <th>2</th>\n",
       "      <td>p107</td>\n",
       "      <td>c348,c633,c106,c193,c291</td>\n",
       "    </tr>\n",
       "    <tr>\n",
       "      <th>3</th>\n",
       "      <td>p115</td>\n",
       "      <td>c784,c786,c446,c26,c65</td>\n",
       "    </tr>\n",
       "    <tr>\n",
       "      <th>4</th>\n",
       "      <td>p121</td>\n",
       "      <td>c549,c713,c109,c261,c546</td>\n",
       "    </tr>\n",
       "    <tr>\n",
       "      <th>...</th>\n",
       "      <td>...</td>\n",
       "      <td>...</td>\n",
       "    </tr>\n",
       "    <tr>\n",
       "      <th>130</th>\n",
       "      <td>p90</td>\n",
       "      <td>c742,c550,c549,c808,c21</td>\n",
       "    </tr>\n",
       "    <tr>\n",
       "      <th>131</th>\n",
       "      <td>p92</td>\n",
       "      <td>c742,c550,c549,c808,c21</td>\n",
       "    </tr>\n",
       "    <tr>\n",
       "      <th>132</th>\n",
       "      <td>p93</td>\n",
       "      <td>c742,c550,c549,c808,c21</td>\n",
       "    </tr>\n",
       "    <tr>\n",
       "      <th>133</th>\n",
       "      <td>p94</td>\n",
       "      <td>c786,c314,c550,c546,c299</td>\n",
       "    </tr>\n",
       "    <tr>\n",
       "      <th>134</th>\n",
       "      <td>p99</td>\n",
       "      <td>c650,c108,c264,c124,c655</td>\n",
       "    </tr>\n",
       "  </tbody>\n",
       "</table>\n",
       "<p>135 rows × 2 columns</p>\n",
       "</div>"
      ],
      "text/plain": [
       "    proj_id                   cand_id\n",
       "0       p10   c57,c786,c102,c348,c299\n",
       "1      p100  c108,c264,c655,c227,c254\n",
       "2      p107  c348,c633,c106,c193,c291\n",
       "3      p115    c784,c786,c446,c26,c65\n",
       "4      p121  c549,c713,c109,c261,c546\n",
       "..      ...                       ...\n",
       "130     p90   c742,c550,c549,c808,c21\n",
       "131     p92   c742,c550,c549,c808,c21\n",
       "132     p93   c742,c550,c549,c808,c21\n",
       "133     p94  c786,c314,c550,c546,c299\n",
       "134     p99  c650,c108,c264,c124,c655\n",
       "\n",
       "[135 rows x 2 columns]"
      ]
     },
     "execution_count": 11,
     "metadata": {},
     "output_type": "execute_result"
    }
   ],
   "source": [
    "submission"
   ]
  },
  {
   "cell_type": "code",
   "execution_count": 12,
   "metadata": {},
   "outputs": [
    {
     "data": {
      "text/plain": [
       "(135, 2)"
      ]
     },
     "execution_count": 12,
     "metadata": {},
     "output_type": "execute_result"
    }
   ],
   "source": [
    "submission.shape"
   ]
  },
  {
   "cell_type": "code",
   "execution_count": 13,
   "metadata": {},
   "outputs": [],
   "source": [
    "#final.to_csv('S:/Hackathons/TCS/final.csv',index = False)"
   ]
  }
 ],
 "metadata": {
  "kernelspec": {
   "display_name": "Python 3",
   "language": "python",
   "name": "python3"
  },
  "language_info": {
   "codemirror_mode": {
    "name": "ipython",
    "version": 3
   },
   "file_extension": ".py",
   "mimetype": "text/x-python",
   "name": "python",
   "nbconvert_exporter": "python",
   "pygments_lexer": "ipython3",
   "version": "3.8.5"
  }
 },
 "nbformat": 4,
 "nbformat_minor": 4
}
