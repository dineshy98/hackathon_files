{
 "cells": [
  {
   "cell_type": "code",
   "execution_count": 1,
   "metadata": {},
   "outputs": [],
   "source": [
    "import pandas as pd\n",
    "import numpy as np\n",
    "\n",
    "train = pd.read_csv('S:/Hackathons/TCS/train1.csv')\n",
    "test = pd.read_csv('S:/Hackathons/TCS/test1.csv')\n",
    "submission = pd.read_excel('S:/Hackathons/TCS/datasets/submission.xlsx')\n",
    "project = pd.read_csv('S:/Hackathons/TCS/project1.csv')"
   ]
  },
  {
   "cell_type": "markdown",
   "metadata": {},
   "source": [
    "# 1.same location or not"
   ]
  },
  {
   "cell_type": "code",
   "execution_count": 2,
   "metadata": {},
   "outputs": [
    {
     "data": {
      "text/plain": [
       "1"
      ]
     },
     "execution_count": 2,
     "metadata": {},
     "output_type": "execute_result"
    }
   ],
   "source": [
    "# Data Prepeocessing for location\n",
    "\n",
    "train_loc = pd.DataFrame(train[['can_id','location']])\n",
    "test_loc = pd.DataFrame(test[['can_id','location']])\n",
    "proj_loc = pd.DataFrame(project[['pro_id','location']])\n",
    "proj_loc.columns = ['can_id','location']\n",
    "\n",
    "\n",
    "temp = pd.concat([train_loc,test_loc])\n",
    "locations = pd.concat([temp,proj_loc])\n",
    "locations.columns = ['id','location']\n",
    "locations.drop_duplicates(inplace = True)\n",
    "\n",
    "locations.index = locations.id\n",
    "locations.drop(columns = ['id'],inplace = True)\n",
    "locations['location'].astype(str)\n",
    "\n",
    "\n",
    "# function\n",
    "\n",
    "def is_same_loc(c,p):\n",
    "    if locations.loc[c].values[0] == locations.loc[p].values[0]:\n",
    "        return 1\n",
    "    else :\n",
    "        return 0\n",
    "\n",
    "\n",
    "is_same_loc('c1','p3')"
   ]
  },
  {
   "cell_type": "code",
   "execution_count": 3,
   "metadata": {},
   "outputs": [
    {
     "data": {
      "text/plain": [
       "0"
      ]
     },
     "execution_count": 3,
     "metadata": {},
     "output_type": "execute_result"
    }
   ],
   "source": [
    "is_same_loc('c5','p20')"
   ]
  },
  {
   "cell_type": "markdown",
   "metadata": {},
   "source": [
    "# 2.mode"
   ]
  },
  {
   "cell_type": "code",
   "execution_count": 4,
   "metadata": {},
   "outputs": [
    {
     "name": "stderr",
     "output_type": "stream",
     "text": [
      "C:\\Users\\dines\\anaconda3\\lib\\site-packages\\pandas\\core\\frame.py:4163: SettingWithCopyWarning: \n",
      "A value is trying to be set on a copy of a slice from a DataFrame\n",
      "\n",
      "See the caveats in the documentation: https://pandas.pydata.org/pandas-docs/stable/user_guide/indexing.html#returning-a-view-versus-a-copy\n",
      "  return super().drop(\n"
     ]
    },
    {
     "data": {
      "text/plain": [
       "1"
      ]
     },
     "execution_count": 4,
     "metadata": {},
     "output_type": "execute_result"
    }
   ],
   "source": [
    "# preprocess data for mode\n",
    "\n",
    "proj_loc = project[['pro_id','mode']]\n",
    "proj_loc.index = proj_loc.pro_id\n",
    "proj_loc.drop(columns = ['pro_id'],inplace = True)\n",
    "\n",
    "\n",
    "# function\n",
    "\n",
    "def mode(p):\n",
    "    if proj_loc.loc[p].values[0] == 'PHYGITAL':\n",
    "       return 1\n",
    "    else:\n",
    "       return 0\n",
    "\n",
    "\n",
    "mode('p20') "
   ]
  },
  {
   "cell_type": "code",
   "execution_count": 5,
   "metadata": {},
   "outputs": [
    {
     "data": {
      "text/plain": [
       "0"
      ]
     },
     "execution_count": 5,
     "metadata": {},
     "output_type": "execute_result"
    }
   ],
   "source": [
    "mode('p3') "
   ]
  },
  {
   "cell_type": "markdown",
   "metadata": {},
   "source": [
    "\n",
    "# 3.number of common skills"
   ]
  },
  {
   "cell_type": "code",
   "execution_count": 7,
   "metadata": {},
   "outputs": [
    {
     "data": {
      "text/plain": [
       "2"
      ]
     },
     "execution_count": 7,
     "metadata": {},
     "output_type": "execute_result"
    }
   ],
   "source": [
    "\n",
    "\n",
    "skills_list = pd.read_csv('S:/Hackathons/TCS/skills_list.csv')\n",
    "skills_list.dropna(inplace = True)\n",
    "\n",
    "\n",
    "\n",
    "def numb_comm_skills(c,p):\n",
    "    s1 = set(skills_list.loc[skills_list['name'] == c]['skill'].values[0].split(','))\n",
    "    s2 = set(skills_list.loc[skills_list['name'] == p]['skill'].values[0].split(','))  \n",
    "    \n",
    "    return len(list(s1.intersection(s2)))\n",
    "\n",
    "numb_comm_skills('c20','p200')\n",
    "\n"
   ]
  },
  {
   "cell_type": "markdown",
   "metadata": {},
   "source": [
    "# 4.top skills score\n",
    "\n",
    "There will be more chance of getting hired if the candidate has top demanding skills.\n",
    "\n",
    "Scoring be like:\n",
    "\n",
    "0.1 - the candidate have 1 out top 10 skills\n",
    "\n",
    "0.2 - the candidate have 2 out top 10 skills\n",
    "\n",
    "likewise ............"
   ]
  },
  {
   "cell_type": "code",
   "execution_count": 8,
   "metadata": {},
   "outputs": [
    {
     "data": {
      "text/plain": [
       "0.30000000000000004"
      ]
     },
     "execution_count": 8,
     "metadata": {},
     "output_type": "execute_result"
    }
   ],
   "source": [
    "\n",
    "\n",
    "top_skills_score = pd.read_csv('S:/Hackathons/TCS/top_skills_score.csv')\n",
    "top_skills_score.index = top_skills_score.name\n",
    "top_skills_score.drop(columns = ['name'],inplace = True)\n",
    "\n",
    "\n",
    "def top_score(c):\n",
    "    a = top_skills_score.loc[c].values[0]\n",
    "    return a\n",
    "\n",
    "\n",
    "\n",
    "top_score('c1')\n",
    "\n"
   ]
  },
  {
   "cell_type": "markdown",
   "metadata": {},
   "source": [
    "# 5.id lookup \n",
    "\n",
    "First Made a Look up table for candidate and Project is using Matrix Factorization\n",
    "     \n",
    "Data used for matrix Factorization is One Hot Encoded Table of both (Candidate_id and Project_id) in index\n",
    "and skills at columns "
   ]
  },
  {
   "cell_type": "code",
   "execution_count": 9,
   "metadata": {},
   "outputs": [
    {
     "data": {
      "text/plain": [
       "array([ 0.11058763, -0.05677603,  0.04089024, -0.09040889, -0.05132164,\n",
       "        0.05292386])"
      ]
     },
     "execution_count": 9,
     "metadata": {},
     "output_type": "execute_result"
    }
   ],
   "source": [
    "\n",
    "\n",
    "###############################\n",
    "\n",
    "\n",
    "#5.id lookup \n",
    "\n",
    "\n",
    "id_lookup = pd.read_csv('S:/Hackathons/TCS/id_lookup.csv')\n",
    "id_lookup.index =  id_lookup.name\n",
    "id_lookup.drop(columns = ['name'],inplace = True)\n",
    "\n",
    "def create_lookup(c,p):\n",
    "    a = list(id_lookup.loc[c].values)\n",
    "    b = list(id_lookup.loc[p].values)\n",
    "    \n",
    "    return np.add(a,b)\n",
    "create_lookup('c20','p200')\n"
   ]
  },
  {
   "attachments": {},
   "cell_type": "markdown",
   "metadata": {},
   "source": [
    "# 6.euclidian between the lookup\n",
    "\n",
    "Euclidian distance between Latent Vectors of project and candidate id\n",
    "\n",
    "From Matrix Factorization. First I used Latent Vector for each project and user id as an embedding on the table\n",
    "but didn’t give better result. Then I Used latent vector for Candidate and project as point and computer \n",
    "Euclidian distance between them"
   ]
  },
  {
   "cell_type": "code",
   "execution_count": 10,
   "metadata": {},
   "outputs": [
    {
     "data": {
      "text/plain": [
       "0.11956813884817027"
      ]
     },
     "execution_count": 10,
     "metadata": {},
     "output_type": "execute_result"
    }
   ],
   "source": [
    "\n",
    "\n",
    "from scipy.spatial import distance\n",
    "\n",
    "\n",
    "def create_eulc(c,p):\n",
    "    a = id_lookup.loc[c].values\n",
    "    b = id_lookup.loc[p].values\n",
    "    \n",
    "    return distance.euclidean(a, b)\n",
    "create_eulc('c20','p200')"
   ]
  },
  {
   "attachments": {},
   "cell_type": "markdown",
   "metadata": {},
   "source": [
    "# 7 jacard score\n",
    "\n",
    "jacard score for finding the similarity between the one hot encoded of Candidate and Project."
   ]
  },
  {
   "cell_type": "code",
   "execution_count": 12,
   "metadata": {},
   "outputs": [
    {
     "data": {
      "text/plain": [
       "0.16666666666666666"
      ]
     },
     "execution_count": 12,
     "metadata": {},
     "output_type": "execute_result"
    }
   ],
   "source": [
    "\n",
    "id_vs_skills_one_hot = pd.read_csv('S:/Hackathons/TCS/one_hot.csv')   #id_vs_skills_one_hot\n",
    "id_vs_skills_one_hot.index = id_vs_skills_one_hot.name\n",
    "id_vs_skills_one_hot.drop(columns = ['name'],inplace = True)\n",
    "id_vs_skills_one_hot.drop(columns = ['All'],inplace = True)\n",
    "id_vs_skills_one_hot.drop('All',inplace = True)\n",
    "\n",
    "from sklearn.metrics import jaccard_score\n",
    "def get_jacard_scores(c,p):\n",
    "    return jaccard_score(id_vs_skills_one_hot.loc[c].values, id_vs_skills_one_hot.loc[p].values)\n",
    "\n",
    "c = 'c20'\n",
    "p = 'p200'\n",
    "\n",
    "get_jacard_scores(c,p)"
   ]
  },
  {
   "cell_type": "code",
   "execution_count": 14,
   "metadata": {},
   "outputs": [],
   "source": [
    "\n",
    "def create_df(c_col,p_col):\n",
    "    temp_df = []\n",
    "    for c,p in zip(c_col,p_col):\n",
    "        row = [is_same_loc(c,p)]+ [mode(p)]+ [numb_comm_skills(c,p)]+[top_score(c)]+[create_eulc(c,p)]+[get_jacard_scores(c,p)]\n",
    "        temp_df.append(row)\n",
    "    \n",
    "    columns = ['is_same_loc','mode','numb_comm_skills','top_score','eulc_dist','jacard_score_b/w_skills']\n",
    "    \n",
    "    df = pd.DataFrame(temp_df,columns = columns) \n",
    "    \n",
    "    return df\n",
    "\n"
   ]
  },
  {
   "cell_type": "markdown",
   "metadata": {},
   "source": [
    "### Train Data Creation"
   ]
  },
  {
   "cell_type": "code",
   "execution_count": 15,
   "metadata": {},
   "outputs": [
    {
     "data": {
      "text/html": [
       "<div>\n",
       "<style scoped>\n",
       "    .dataframe tbody tr th:only-of-type {\n",
       "        vertical-align: middle;\n",
       "    }\n",
       "\n",
       "    .dataframe tbody tr th {\n",
       "        vertical-align: top;\n",
       "    }\n",
       "\n",
       "    .dataframe thead th {\n",
       "        text-align: right;\n",
       "    }\n",
       "</style>\n",
       "<table border=\"1\" class=\"dataframe\">\n",
       "  <thead>\n",
       "    <tr style=\"text-align: right;\">\n",
       "      <th></th>\n",
       "      <th>is_same_loc</th>\n",
       "      <th>mode</th>\n",
       "      <th>numb_comm_skills</th>\n",
       "      <th>top_score</th>\n",
       "      <th>eulc_dist</th>\n",
       "      <th>jacard_score_b/w_skills</th>\n",
       "      <th>result</th>\n",
       "    </tr>\n",
       "  </thead>\n",
       "  <tbody>\n",
       "    <tr>\n",
       "      <th>0</th>\n",
       "      <td>1</td>\n",
       "      <td>0</td>\n",
       "      <td>1</td>\n",
       "      <td>0.2</td>\n",
       "      <td>0.072502</td>\n",
       "      <td>0.166667</td>\n",
       "      <td>SELECTED</td>\n",
       "    </tr>\n",
       "    <tr>\n",
       "      <th>1</th>\n",
       "      <td>0</td>\n",
       "      <td>1</td>\n",
       "      <td>0</td>\n",
       "      <td>0.2</td>\n",
       "      <td>0.111115</td>\n",
       "      <td>0.000000</td>\n",
       "      <td>SELECTED</td>\n",
       "    </tr>\n",
       "    <tr>\n",
       "      <th>2</th>\n",
       "      <td>1</td>\n",
       "      <td>0</td>\n",
       "      <td>0</td>\n",
       "      <td>0.1</td>\n",
       "      <td>0.067958</td>\n",
       "      <td>0.000000</td>\n",
       "      <td>SELECTED</td>\n",
       "    </tr>\n",
       "    <tr>\n",
       "      <th>3</th>\n",
       "      <td>1</td>\n",
       "      <td>0</td>\n",
       "      <td>0</td>\n",
       "      <td>0.2</td>\n",
       "      <td>0.084265</td>\n",
       "      <td>0.000000</td>\n",
       "      <td>SELECTED</td>\n",
       "    </tr>\n",
       "    <tr>\n",
       "      <th>4</th>\n",
       "      <td>1</td>\n",
       "      <td>1</td>\n",
       "      <td>1</td>\n",
       "      <td>0.4</td>\n",
       "      <td>0.105762</td>\n",
       "      <td>0.200000</td>\n",
       "      <td>REJECTED</td>\n",
       "    </tr>\n",
       "  </tbody>\n",
       "</table>\n",
       "</div>"
      ],
      "text/plain": [
       "   is_same_loc  mode  numb_comm_skills  top_score  eulc_dist  \\\n",
       "0            1     0                 1        0.2   0.072502   \n",
       "1            0     1                 0        0.2   0.111115   \n",
       "2            1     0                 0        0.1   0.067958   \n",
       "3            1     0                 0        0.2   0.084265   \n",
       "4            1     1                 1        0.4   0.105762   \n",
       "\n",
       "   jacard_score_b/w_skills    result  \n",
       "0                 0.166667  SELECTED  \n",
       "1                 0.000000  SELECTED  \n",
       "2                 0.000000  SELECTED  \n",
       "3                 0.000000  SELECTED  \n",
       "4                 0.200000  REJECTED  "
      ]
     },
     "execution_count": 15,
     "metadata": {},
     "output_type": "execute_result"
    }
   ],
   "source": [
    "train.dropna(inplace = True)\n",
    "train_df = create_df(train['can_id'],train['pro_id'])\n",
    "\n",
    "\n",
    "train_df['result'] = list(train['evaluation_status'])\n",
    "#train_df.to_csv('S:/Hackathons/TCS/train_main.csv',index = False)\n",
    "train_df.head()"
   ]
  },
  {
   "cell_type": "code",
   "execution_count": 46,
   "metadata": {},
   "outputs": [
    {
     "data": {
      "text/plain": [
       "can_id      0\n",
       "location    0\n",
       "skills      2\n",
       "skill1      2\n",
       "dtype: int64"
      ]
     },
     "execution_count": 46,
     "metadata": {},
     "output_type": "execute_result"
    }
   ],
   "source": [
    "test.isnull().sum()"
   ]
  },
  {
   "cell_type": "code",
   "execution_count": 19,
   "metadata": {},
   "outputs": [],
   "source": [
    "test.dropna(inplace = True)\n",
    "test_pro = []\n",
    "test_can = []\n",
    "for i in submission['Submission ']:\n",
    "    for j in test['can_id']:\n",
    "        test_pro.append(i)\n",
    "        test_can.append(j)\n",
    "        \n",
    "\n",
    "test.dropna(inplace = True)\n",
    "test_main = create_df(test_can,test_pro)\n",
    "\n",
    "\n",
    "test_main['proj_id'] = test_pro\n",
    "test_main['cand_id'] = test_can\n",
    "\n",
    "#test_main.to_csv('S:/Hackathons/TCS/test_main1.csv',index = False)"
   ]
  },
  {
   "cell_type": "code",
   "execution_count": 17,
   "metadata": {},
   "outputs": [
    {
     "data": {
      "text/html": [
       "<div>\n",
       "<style scoped>\n",
       "    .dataframe tbody tr th:only-of-type {\n",
       "        vertical-align: middle;\n",
       "    }\n",
       "\n",
       "    .dataframe tbody tr th {\n",
       "        vertical-align: top;\n",
       "    }\n",
       "\n",
       "    .dataframe thead th {\n",
       "        text-align: right;\n",
       "    }\n",
       "</style>\n",
       "<table border=\"1\" class=\"dataframe\">\n",
       "  <thead>\n",
       "    <tr style=\"text-align: right;\">\n",
       "      <th></th>\n",
       "      <th>is_same_loc</th>\n",
       "      <th>mode</th>\n",
       "      <th>numb_comm_skills</th>\n",
       "      <th>top_score</th>\n",
       "      <th>eulc_dist</th>\n",
       "      <th>jacard_score_b/w_skills</th>\n",
       "      <th>proj_id</th>\n",
       "      <th>cand_id</th>\n",
       "    </tr>\n",
       "  </thead>\n",
       "  <tbody>\n",
       "    <tr>\n",
       "      <th>0</th>\n",
       "      <td>0</td>\n",
       "      <td>0</td>\n",
       "      <td>1</td>\n",
       "      <td>0.3</td>\n",
       "      <td>0.080969</td>\n",
       "      <td>0.142857</td>\n",
       "      <td>p10</td>\n",
       "      <td>c1</td>\n",
       "    </tr>\n",
       "    <tr>\n",
       "      <th>1</th>\n",
       "      <td>1</td>\n",
       "      <td>0</td>\n",
       "      <td>0</td>\n",
       "      <td>0.1</td>\n",
       "      <td>0.129904</td>\n",
       "      <td>0.000000</td>\n",
       "      <td>p10</td>\n",
       "      <td>c3</td>\n",
       "    </tr>\n",
       "    <tr>\n",
       "      <th>2</th>\n",
       "      <td>1</td>\n",
       "      <td>0</td>\n",
       "      <td>1</td>\n",
       "      <td>0.2</td>\n",
       "      <td>0.057331</td>\n",
       "      <td>0.125000</td>\n",
       "      <td>p10</td>\n",
       "      <td>c7</td>\n",
       "    </tr>\n",
       "    <tr>\n",
       "      <th>3</th>\n",
       "      <td>0</td>\n",
       "      <td>0</td>\n",
       "      <td>1</td>\n",
       "      <td>0.7</td>\n",
       "      <td>0.127057</td>\n",
       "      <td>0.076923</td>\n",
       "      <td>p10</td>\n",
       "      <td>c15</td>\n",
       "    </tr>\n",
       "    <tr>\n",
       "      <th>4</th>\n",
       "      <td>0</td>\n",
       "      <td>0</td>\n",
       "      <td>1</td>\n",
       "      <td>0.6</td>\n",
       "      <td>0.135926</td>\n",
       "      <td>0.090909</td>\n",
       "      <td>p10</td>\n",
       "      <td>c16</td>\n",
       "    </tr>\n",
       "  </tbody>\n",
       "</table>\n",
       "</div>"
      ],
      "text/plain": [
       "   is_same_loc  mode  numb_comm_skills  top_score  eulc_dist  \\\n",
       "0            0     0                 1        0.3   0.080969   \n",
       "1            1     0                 0        0.1   0.129904   \n",
       "2            1     0                 1        0.2   0.057331   \n",
       "3            0     0                 1        0.7   0.127057   \n",
       "4            0     0                 1        0.6   0.135926   \n",
       "\n",
       "   jacard_score_b/w_skills proj_id cand_id  \n",
       "0                 0.142857     p10      c1  \n",
       "1                 0.000000     p10      c3  \n",
       "2                 0.125000     p10      c7  \n",
       "3                 0.076923     p10     c15  \n",
       "4                 0.090909     p10     c16  "
      ]
     },
     "execution_count": 17,
     "metadata": {},
     "output_type": "execute_result"
    }
   ],
   "source": [
    "test_main.head()"
   ]
  },
  {
   "cell_type": "code",
   "execution_count": null,
   "metadata": {},
   "outputs": [],
   "source": []
  }
 ],
 "metadata": {
  "kernelspec": {
   "display_name": "Python 3",
   "language": "python",
   "name": "python3"
  },
  "language_info": {
   "codemirror_mode": {
    "name": "ipython",
    "version": 3
   },
   "file_extension": ".py",
   "mimetype": "text/x-python",
   "name": "python",
   "nbconvert_exporter": "python",
   "pygments_lexer": "ipython3",
   "version": "3.8.5"
  }
 },
 "nbformat": 4,
 "nbformat_minor": 4
}
